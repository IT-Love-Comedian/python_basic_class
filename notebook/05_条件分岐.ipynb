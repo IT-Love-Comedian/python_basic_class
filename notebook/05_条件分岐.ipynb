{
 "cells": [
  {
   "cell_type": "markdown",
   "metadata": {},
   "source": [
    "# 1. if文"
   ]
  },
  {
   "cell_type": "markdown",
   "metadata": {},
   "source": [
    "## 1-1. if ... else による条件分岐\n",
    "60点以上であれば合格となる条件分岐を記述しなさい。"
   ]
  },
  {
   "cell_type": "code",
   "execution_count": null,
   "metadata": {},
   "outputs": [],
   "source": [
    "def pass_or_fail(score: int) -> str:\n",
    "    \"\"\"\n",
    "    合否判定関数.\n",
    "    \n",
    "    Parameters\n",
    "    ----------\n",
    "    score : int\n",
    "        点数.\n",
    "    \"\"\"\n",
    "    # 点数が60点以上なら合格とする条件分岐を記述しなさい\n",
    "    pass"
   ]
  },
  {
   "cell_type": "code",
   "execution_count": null,
   "metadata": {},
   "outputs": [],
   "source": [
    "# 期待する結果: \"不合格\"\n",
    "print(\"case1:\"\n",
    "    , pass_or_fail(59))\n",
    "\n",
    "# 期待する結果: \"合格\"\n",
    "print(\"case2:\"\n",
    "    , pass_or_fail(60))\n",
    "\n",
    "# 期待する結果: \"合格\"\n",
    "print(\"case3:\"\n",
    "    , pass_or_fail(61))"
   ]
  },
  {
   "cell_type": "markdown",
   "metadata": {},
   "source": [
    "## 1-2. if ... elif ... else による条件分岐"
   ]
  },
  {
   "cell_type": "code",
   "execution_count": null,
   "metadata": {},
   "outputs": [],
   "source": [
    "def number_classification(num):\n",
    "    # \n",
    "    pass"
   ]
  },
  {
   "cell_type": "code",
   "execution_count": null,
   "metadata": {},
   "outputs": [],
   "source": []
  }
 ],
 "metadata": {
  "kernelspec": {
   "display_name": "Python 3",
   "language": "python",
   "name": "python3"
  },
  "language_info": {
   "codemirror_mode": {
    "name": "ipython",
    "version": 3
   },
   "file_extension": ".py",
   "mimetype": "text/x-python",
   "name": "python",
   "nbconvert_exporter": "python",
   "pygments_lexer": "ipython3",
   "version": "3.11.3"
  }
 },
 "nbformat": 4,
 "nbformat_minor": 2
}
