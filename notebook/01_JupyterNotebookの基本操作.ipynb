{
 "cells": [
  {
   "cell_type": "markdown",
   "metadata": {},
   "source": [
    "# Jupyter Notebook の基本操作(ショートカット)\n",
    "Jupyter Notebook には覚えるべきショートカットがいくつもあります。  \n",
    "まずはショートカットを覚えて効率よく言語を学んでいきましょう。"
   ]
  },
  {
   "cell_type": "markdown",
   "metadata": {},
   "source": [
    "# Command モードと Edit モード\n",
    "Jupyter Notebook は Command モードと Edit モードが存在します。  \n",
    "Command モードは、セル操作を行うショートカットを実行するためのモードです。  \n",
    "Edit モードは、セルへのプログラム入力を受けつけるモードです。  \n",
    "\n",
    "Command モードにするには、操作したいセルをクリックした後 Esc キーを押下します。  \n",
    "もしくは、セルのテキストボックスを除いた領域をクリックすると Command モードになります。\n",
    "\n",
    "Edit モードにするには、各セルのテキストボックスをクリックします。  \n",
    "Markdown 形式の場合はダブルクリックすることで編集できます。"
   ]
  },
  {
   "cell_type": "code",
   "execution_count": 1,
   "metadata": {},
   "outputs": [],
   "source": [
    "# ここで試してみましょう！"
   ]
  },
  {
   "cell_type": "markdown",
   "metadata": {},
   "source": [
    "# セルの挿入\n",
    "セルの挿入は、Jupyter Notebook 上部にセルを挿入するためのボタンが設置されています。  \n",
    "しかし、ショートカットを覚えた方が効率的なので是非覚えましょう。  \n",
    "\n",
    "### 選択したセルの上にセルを挿入(Insert cell above)\n",
    "`# 基準セル` と書かれたセルを Command モードで選択してください。  \n",
    "その後、 \"A\" キーを押下してください。  \n",
    "選択したセルの上に、新しいセルが挿入されます。  \n",
    "\n",
    "\"Above\" の \"A\" がショートカットのキーだと覚えましょう。\n",
    "\n",
    "\n",
    "### 選択したセルの下にセルを挿入(Insert cell below)\n",
    "`# 基準セル` と書かれたセルを Command モードで選択してください。  \n",
    "その後、 \"B\" キーを押下してください。  \n",
    "選択したセルの下に、新しいセルが挿入されます。  \n",
    "\n",
    "\"Below\" の \"B\" がショートカットのキーだと覚えましょう。"
   ]
  },
  {
   "cell_type": "code",
   "execution_count": null,
   "metadata": {},
   "outputs": [],
   "source": [
    "# 基準セル"
   ]
  },
  {
   "cell_type": "markdown",
   "metadata": {},
   "source": [
    "# セルのコピー、貼り付け、切り取り\n",
    "### セルのコピー\n",
    "`# 基準セル` と書かれたセルを Command モードで選択してください。  \n",
    "その後、\"C\" キーを押下してください。  \n",
    "選択したセルがコピーされます。\n",
    "\n",
    "### セルの貼り付け\n",
    "`# 基準セル` と書かれたセルを Command モードで選択してください。  \n",
    "その後、\"V\" キーを押下してください。  \n",
    "先ほどコピーしたセルが `# 基準セル` の下に貼り付けられます。\n",
    "\n",
    "### セルの切り取り\n",
    "`# 基準セル` と書かれたセルを Command モードで選択してください。  \n",
    "その後、\"X\" キーを押下してください。\n",
    "選択したセルが切り取られます。  \n",
    "セルの貼り付けを行うと、切り取ったセルが貼り付けられます。"
   ]
  },
  {
   "cell_type": "code",
   "execution_count": 2,
   "metadata": {},
   "outputs": [],
   "source": [
    "# 基準セル"
   ]
  },
  {
   "cell_type": "markdown",
   "metadata": {},
   "source": [
    "# セルを削除する、元に戻す\n",
    "\n",
    "### セルを削除する\n",
    "`# 基準セル` と書かれたセルを Command モードで選択してください。  \n",
    "その後、\"D\" キーを **2回** 押下してください。  \n",
    "選択していたセルが削除されます。\n",
    "\n",
    "### 元に戻す\n",
    "セル削除を実行した後、Command モードの状態で \"Z\" キーを押下してください。  \n",
    "先ほど削除したセルが元に戻ります。"
   ]
  },
  {
   "cell_type": "code",
   "execution_count": 3,
   "metadata": {},
   "outputs": [],
   "source": [
    "# 基準セル"
   ]
  },
  {
   "cell_type": "markdown",
   "metadata": {},
   "source": [
    "# セルを実行する\n",
    "\n",
    "### セルを実行\n",
    "`# テストコード` のセルを Command モードで選択してください。  \n",
    "その後、\"Ctrl + Enter\" を押下してください。  \n",
    "選択していたセルのプログラムが実行されます。\n",
    "\n",
    "### セルを実行して下のセルに移動\n",
    "`# テストコード` のセルを Command モードで選択してください。  \n",
    "その後、\"Shift + Enter\" を押下してください。  \n",
    "選択していたセルのプログラムが実行され、下のセルが Command モードで選択されます。\n",
    "\n",
    "### セルを実行して下にセルを追加\n",
    "`# テストコード` のセルを Command モードで選択してください。  \n",
    "その後、\"Alt + Enter\" を押下してください。  \n",
    "選択していたセルのプログラムが実行され、下にセルが追加され Edit モードで選択されます。  \n",
    "既存のセルの間にセルを追加しながらプログラムを書きたい際は便利です。"
   ]
  },
  {
   "cell_type": "code",
   "execution_count": 7,
   "metadata": {},
   "outputs": [
    {
     "name": "stdout",
     "output_type": "stream",
     "text": [
      "Hello World!\n"
     ]
    }
   ],
   "source": [
    "# テストコード\n",
    "print('Hello World!')"
   ]
  },
  {
   "cell_type": "markdown",
   "metadata": {},
   "source": [
    "# 保存する\n",
    "\"Ctrl + S\" でノートブックの内容を保存します。  \n",
    "業務でも意識している通り、こまめに保存するようにしましょう。"
   ]
  },
  {
   "cell_type": "markdown",
   "metadata": {},
   "source": [
    "# コードセル、マークダウンセル\n",
    "\n",
    "### コードセル\n",
    "コードセルとは、プログラムを記述して実行するためのセルです。  \n",
    "例えば、以下のプログラムが記述されたセルはコードセルです。  \n",
    "\n",
    "```py\n",
    "x=1+1\n",
    "print(x)\n",
    "```\n",
    "\n",
    "セルを Command モードで選択し、\"Y\" キーを押下するとコードセルになります。\n",
    "\n",
    "### マークダウンセル\n",
    "この文章を記述しているセルや、ここまでに解説が記載されていたようなセルはマークダウンセルです。  \n",
    "その名前の通り Markdown 記法を利用して文章を記述することができます。  \n",
    "\n",
    "セルを Command モードで選択し、\"M\" キーを押下するとマークダウンセルになります。"
   ]
  },
  {
   "cell_type": "code",
   "execution_count": 8,
   "metadata": {},
   "outputs": [
    {
     "name": "stdout",
     "output_type": "stream",
     "text": [
      "2\n"
     ]
    }
   ],
   "source": [
    "# ここはコードセル\n",
    "x=1+1\n",
    "print(x)"
   ]
  },
  {
   "cell_type": "markdown",
   "metadata": {},
   "source": [
    "**ここはマークダウンセル**\n",
    "\n",
    "- test\n",
    "    - markdown"
   ]
  },
  {
   "cell_type": "code",
   "execution_count": 11,
   "metadata": {},
   "outputs": [],
   "source": [
    "# このセルをマークダウンセルに切り替えてみよう"
   ]
  },
  {
   "cell_type": "markdown",
   "metadata": {},
   "source": [
    "# 以上！\n",
    "お疲れ様でした。  \n",
    "以上が、これから Jupyter Notebook を利用して Python を学ぶために最低限必要な知識です。  \n",
    "他にも便利なショートカットキーや操作がたくさんあるので、学習の合間に調べてみるようにしましょう！"
   ]
  }
 ],
 "metadata": {
  "language_info": {
   "name": "python"
  }
 },
 "nbformat": 4,
 "nbformat_minor": 2
}
