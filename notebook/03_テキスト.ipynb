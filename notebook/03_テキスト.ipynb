{
 "cells": [
  {
   "cell_type": "markdown",
   "metadata": {},
   "source": [
    "### 1. テキストの出力\n",
    "\"Hello World!\" のテキストを出力しなさい。  \n",
    "なお、ダブルクォートは出力せず囲われたテキストだけ出力しなさい。"
   ]
  },
  {
   "cell_type": "code",
   "execution_count": null,
   "metadata": {},
   "outputs": [],
   "source": []
  },
  {
   "cell_type": "markdown",
   "metadata": {},
   "source": [
    "### 2. 複数行のテキスト出力\n",
    "print() 関数を1つだけ使用し、以下のテキストを出力しなさい。  \n",
    "\n",
    "```\n",
    "お米を炊きすぎたので、今夜は家で小さな寿司フェスティバル開催です。\n",
    "お土産はタッパー持参でお願いします。\n",
    "洗い物もついてきます！\n",
    "```\n",
    "\n",
    "なお、テキストの加工は認めません。"
   ]
  },
  {
   "cell_type": "code",
   "execution_count": null,
   "metadata": {},
   "outputs": [],
   "source": []
  },
  {
   "cell_type": "markdown",
   "metadata": {},
   "source": [
    "### 3. 改行を含んだテキストの出力\n",
    "print() 関数を1つだけ使用し、以下のテキストを出力しなさい。\n",
    "\n",
    "```\n",
    "お米を炊きすぎたので、今夜は家で小さな寿司フェスティバル開催です。\n",
    "お土産はタッパー持参でお願いします。\n",
    "洗い物もついてきます！\n",
    "```\n",
    "\n",
    "なお、テキストの加工はエスケープ文字の追加のみ認めます。"
   ]
  },
  {
   "cell_type": "code",
   "execution_count": null,
   "metadata": {},
   "outputs": [],
   "source": []
  },
  {
   "cell_type": "markdown",
   "metadata": {},
   "source": [
    "### 4. クォートを出力する\n",
    "以下のコードを実行するとエラーが発生する。\n",
    "\n",
    "```\n",
    "print(\"\"Yes,\" they said.\")\n",
    "```\n",
    "\n",
    "エスケープ文字を追加してエラーが発生しないようにしなさい。"
   ]
  },
  {
   "cell_type": "code",
   "execution_count": null,
   "metadata": {},
   "outputs": [],
   "source": [
    "print(\"\"Yes,\" they said.\")"
   ]
  },
  {
   "cell_type": "markdown",
   "metadata": {},
   "source": []
  },
  {
   "cell_type": "code",
   "execution_count": null,
   "metadata": {},
   "outputs": [],
   "source": []
  }
 ],
 "metadata": {
  "kernelspec": {
   "display_name": "Python 3",
   "language": "python",
   "name": "python3"
  },
  "language_info": {
   "codemirror_mode": {
    "name": "ipython",
    "version": 3
   },
   "file_extension": ".py",
   "mimetype": "text/x-python",
   "name": "python",
   "nbconvert_exporter": "python",
   "pygments_lexer": "ipython3",
   "version": "3.11.3"
  }
 },
 "nbformat": 4,
 "nbformat_minor": 2
}
