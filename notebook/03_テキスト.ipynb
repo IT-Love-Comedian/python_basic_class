{
 "cells": [
  {
   "cell_type": "markdown",
   "metadata": {},
   "source": [
    "### 1. テキストの出力\n",
    "\"Hello World!\" のテキストを出力しなさい。  \n",
    "なお、ダブルクォートは出力せず囲われたテキストだけ出力しなさい。"
   ]
  },
  {
   "cell_type": "code",
   "execution_count": null,
   "metadata": {},
   "outputs": [],
   "source": []
  },
  {
   "cell_type": "markdown",
   "metadata": {},
   "source": [
    "### 2. 複数行のテキスト出力\n",
    "print() 関数を1つだけ使用し、以下のテキストを出力しなさい。  \n",
    "なお、テキストの加工は認めません。\n",
    "\n",
    "```\n",
    "お米を炊きすぎたので、今夜は家で小さな寿司フェスティバル開催です。\n",
    "お土産はタッパー持参でお願いします。\n",
    "洗い物もついてきます！\n",
    "```"
   ]
  },
  {
   "cell_type": "code",
   "execution_count": null,
   "metadata": {},
   "outputs": [],
   "source": []
  }
 ],
 "metadata": {
  "language_info": {
   "name": "python"
  }
 },
 "nbformat": 4,
 "nbformat_minor": 2
}
