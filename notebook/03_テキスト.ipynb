{
 "cells": [
  {
   "cell_type": "markdown",
   "metadata": {},
   "source": [
    "### 1. テキストの出力\n",
    "\"Hello World!\" のテキストを出力しなさい。  \n",
    "なお、ダブルクォートは出力せず囲われたテキストだけ出力しなさい。"
   ]
  },
  {
   "cell_type": "code",
   "execution_count": null,
   "metadata": {},
   "outputs": [],
   "source": []
  },
  {
   "cell_type": "markdown",
   "metadata": {},
   "source": [
    "### 2. 複数行のテキスト出力\n",
    "print() 関数を1つだけ使用し、以下のテキストを出力しなさい。  \n",
    "\n",
    "```\n",
    "お米を炊きすぎたので、今夜は家で小さな寿司フェスティバル開催です。\n",
    "お土産はタッパー持参でお願いします。\n",
    "洗い物もついてきます！\n",
    "```\n",
    "\n",
    "なお、テキストを囲うクォートは上記文章の最初と最後だけに付与すること。  \n",
    "また、テキストの加工は認めません。"
   ]
  },
  {
   "cell_type": "code",
   "execution_count": null,
   "metadata": {},
   "outputs": [],
   "source": []
  },
  {
   "cell_type": "markdown",
   "metadata": {},
   "source": [
    "### 3. 改行を含んだテキストの出力\n",
    "print() 関数を1つだけ使用し、以下のテキストを出力しなさい。\n",
    "\n",
    "```\n",
    "お米を炊きすぎたので、今夜は家で小さな寿司フェスティバル開催です。\n",
    "お土産はタッパー持参でお願いします。\n",
    "洗い物もついてきます！\n",
    "```\n",
    "\n",
    "なお、テキストの加工はエスケープ文字の追加のみ認めます。"
   ]
  },
  {
   "cell_type": "code",
   "execution_count": null,
   "metadata": {},
   "outputs": [],
   "source": []
  },
  {
   "cell_type": "markdown",
   "metadata": {},
   "source": [
    "### 4. クォートを出力する\n",
    "以下のコードを実行するとエラーが発生する。\n",
    "\n",
    "```\n",
    "print(\"She said, \"Hello, World!\"\")\n",
    "```\n",
    "\n",
    "エスケープ文字を追加してエラーが発生しないようにしなさい。"
   ]
  },
  {
   "cell_type": "code",
   "execution_count": null,
   "metadata": {},
   "outputs": [],
   "source": [
    "print(\"She said, \"Hello, World!\"\")"
   ]
  },
  {
   "cell_type": "markdown",
   "metadata": {},
   "source": [
    "### 5. 意図しないエスケープを回避する\n",
    "以下のコードを実行すると、パスが改行されて出力されてしまう。\n",
    "\n",
    "`print('C:\\hoge\\piyo\\name')`\n",
    "\n",
    "以下の2種類の方法で改行をしないように出力しなさい。\n",
    "1. シングルクォートの中に特定の文字を追加して改行を回避する\n",
    "2. シングルクォートを含むテキストの部分には手を加えずに、1文字だけ追加して改行を回避する"
   ]
  },
  {
   "cell_type": "code",
   "execution_count": null,
   "metadata": {},
   "outputs": [],
   "source": [
    "# シングルクォートの中に特定の文字を追加して改行を回避する\n",
    "print('C:\\hoge\\piyo\\name')"
   ]
  },
  {
   "cell_type": "code",
   "execution_count": null,
   "metadata": {},
   "outputs": [],
   "source": [
    "# シングルクォートを含むテキストの部分には手を加えずに、1文字だけ追加して改行を回避する\n",
    "print('C:\\hoge\\piyo\\name')"
   ]
  },
  {
   "cell_type": "markdown",
   "metadata": {},
   "source": [
    "### 6. 複数行にまたがって出力される文字の意図しない改行の回避\n",
    "以下のプログラムを実行すると、print() 関数の間に空行が挿入されてしまう。\n",
    "\n",
    "```\n",
    "print('--------------')\n",
    "print(\"\"\"\n",
    "Usage: mycommand [OPTIONS] <input_file>\n",
    "\n",
    "Options:\n",
    "  -h, --help      Show this help message and exit\n",
    "  -o, --output    Specify the output file\n",
    "  -v, --verbose   Enable verbose mode\n",
    "  --version       Show the version information and exit\n",
    "\"\"\")\n",
    "print('--------------')\n",
    "```\n",
    "\n",
    "特定の1種類の文字だけを追加して、print() 関数間の空行が出力されないようにしなさい。"
   ]
  },
  {
   "cell_type": "code",
   "execution_count": null,
   "metadata": {},
   "outputs": [],
   "source": [
    "print('--------------')\n",
    "print(\"\"\"\n",
    "Usage: mycommand [OPTIONS] <input_file>\n",
    "\n",
    "Options:\n",
    "  -h, --help      Show this help message and exit\n",
    "  -o, --output    Specify the output file\n",
    "  -v, --verbose   Enable verbose mode\n",
    "  --version       Show the version information and exit\n",
    "\"\"\")\n",
    "print('--------------')"
   ]
  },
  {
   "cell_type": "markdown",
   "metadata": {},
   "source": [
    "### 7. テキストの結合\n",
    "2種類の方法で、\"Py\" と \"thon\" のテキストを結合しなさい。  \n",
    "ただし、以下の方法は認めません。\n",
    "\n",
    "```\n",
    "print(\"Python\")\n",
    "print('Python')\n",
    "```"
   ]
  },
  {
   "cell_type": "code",
   "execution_count": null,
   "metadata": {},
   "outputs": [],
   "source": [
    "# 1種類目"
   ]
  },
  {
   "cell_type": "code",
   "execution_count": null,
   "metadata": {},
   "outputs": [],
   "source": [
    "# 2種類目"
   ]
  },
  {
   "cell_type": "markdown",
   "metadata": {},
   "source": [
    "### 8. 変数に格納したテキストとの結合\n",
    "変数 prefix に格納された 'Py' と、文字リテラル 'thon' を結合して 'Python' と表示しなさい。"
   ]
  },
  {
   "cell_type": "code",
   "execution_count": null,
   "metadata": {},
   "outputs": [],
   "source": [
    "prefix = 'Py'\n",
    "\n",
    "# 以下の print() 関数に 'thon' を追加して 'Python' と表示する\n",
    "print(prefix)"
   ]
  },
  {
   "cell_type": "markdown",
   "metadata": {},
   "source": [
    "### 9. テキストの繰り返し\n",
    "'オラ' の文字をコード上で増やさずに、100個のオラを出力しなさい。  \n",
    "なお、変数に格納することは認めません。"
   ]
  },
  {
   "cell_type": "code",
   "execution_count": null,
   "metadata": {},
   "outputs": [],
   "source": [
    "'オラ'"
   ]
  },
  {
   "cell_type": "markdown",
   "metadata": {},
   "source": [
    "### 10. 任意の文字の取り出し\n",
    "alphabet 変数に格納された a から z までの文字列に対してインデックスを指定し、以下の文字を出力しなさい。\n",
    "\n",
    "1. 'a' の文字を出力する\n",
    "2. 正の数値を使って 'c' の文字を出力する\n",
    "3. 負の数値を使って 'y' の文字を出力する"
   ]
  },
  {
   "cell_type": "code",
   "execution_count": null,
   "metadata": {
    "vscode": {
     "languageId": "ini"
    }
   },
   "outputs": [],
   "source": [
    "alphabet = 'abcdefghijklmnopqrstuvwxyz'\n",
    "\n",
    "# 1. 'a' の文字を出力する\n",
    "print(alphabet)\n",
    "\n",
    "# 2. 正の数値を使って 'c' の文字を出力する\n",
    "print(alphabet)\n",
    "\n",
    "# 3. 負の数値を使って 'y' の文字を出力する\n",
    "print(alphabet)"
   ]
  },
  {
   "cell_type": "code",
   "execution_count": null,
   "metadata": {},
   "outputs": [],
   "source": []
  }
 ],
 "metadata": {
  "kernelspec": {
   "display_name": "Python 3",
   "language": "python",
   "name": "python3"
  },
  "language_info": {
   "codemirror_mode": {
    "name": "ipython",
    "version": 3
   },
   "file_extension": ".py",
   "mimetype": "text/x-python",
   "name": "python",
   "nbconvert_exporter": "python",
   "pygments_lexer": "ipython3",
   "version": "3.11.3"
  }
 },
 "nbformat": 4,
 "nbformat_minor": 2
}
