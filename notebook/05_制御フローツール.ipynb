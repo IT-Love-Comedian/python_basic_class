{
 "cells": [
  {
   "cell_type": "markdown",
   "metadata": {},
   "source": [
    "# 1. if文"
   ]
  },
  {
   "cell_type": "markdown",
   "metadata": {},
   "source": [
    "## 1-1. if ... else による条件分岐\n",
    "60点以上であれば合格となる条件分岐を記述しなさい。"
   ]
  },
  {
   "cell_type": "code",
   "execution_count": null,
   "metadata": {},
   "outputs": [],
   "source": [
    "def pass_or_fail(score: int) -> str:\n",
    "    \"\"\"\n",
    "    合否判定関数.\n",
    "    \n",
    "    Parameters\n",
    "    ----------\n",
    "    score : int\n",
    "        点数.\n",
    "\n",
    "    Returns\n",
    "    -------\n",
    "    str\n",
    "        合格か不合格かを返す.\n",
    "    \"\"\"\n",
    "    # 回答を記述しなさい\n",
    "    pass"
   ]
  },
  {
   "cell_type": "code",
   "execution_count": null,
   "metadata": {},
   "outputs": [],
   "source": [
    "# 期待する結果: \"不合格\"\n",
    "print(\"case1:\"\n",
    "    , pass_or_fail(59))\n",
    "\n",
    "# 期待する結果: \"合格\"\n",
    "print(\"case2:\"\n",
    "    , pass_or_fail(60))\n",
    "\n",
    "# 期待する結果: \"合格\"\n",
    "print(\"case3:\"\n",
    "    , pass_or_fail(61))"
   ]
  },
  {
   "cell_type": "markdown",
   "metadata": {},
   "source": [
    "## 1-2. if ... elif ... else による条件分岐\n",
    "以下の条件を満たす条件分岐を記述しなさい。\n",
    "- 1 以上であれば \"Positive\" を出力する\n",
    "- 0 であれば \"Zero\" を出力する\n",
    "- -1 以下であれば \"Negative\" を出力する"
   ]
  },
  {
   "cell_type": "code",
   "execution_count": null,
   "metadata": {},
   "outputs": [],
   "source": [
    "def number_classification(num):\n",
    "    \"\"\"\n",
    "    正負判定関数.\n",
    "\n",
    "    Parameters\n",
    "    ----------\n",
    "    num : int\n",
    "        数値.\n",
    "\n",
    "    Returns\n",
    "    -------\n",
    "    str\n",
    "        正の数の場合は\"positive\",\n",
    "        負の数の場合は\"negative\",\n",
    "        0の場合は\"zero\"を返す.\n",
    "    \"\"\"\n",
    "    # 回答を記述しなさい\n",
    "    pass"
   ]
  },
  {
   "cell_type": "code",
   "execution_count": null,
   "metadata": {},
   "outputs": [],
   "source": [
    "# 期待する結果: \"Positive\"\n",
    "print(\"case1:\"\n",
    "    , number_classification(1))\n",
    "\n",
    "# 期待する結果: \"Negative\"\n",
    "print(\"case2:\"\n",
    "    , number_classification(-1))\n",
    "\n",
    "# 期待する結果: \"Zero\"\n",
    "print(\"case3:\"\n",
    "    , number_classification(0))"
   ]
  },
  {
   "cell_type": "markdown",
   "metadata": {},
   "source": [
    "## 1-3. 複数の条件\n",
    "以下の条件を満たす条件分岐を記述しなさい。\n",
    "\n",
    "- 年齢が18歳以上であること\n",
    "- 年収が 30,000 ドル以上であること\n",
    "- 健康状態が「良好」または「普通」であること"
   ]
  },
  {
   "cell_type": "code",
   "execution_count": null,
   "metadata": {},
   "outputs": [],
   "source": [
    "def can_parchase_insurance(age, income, health_status):\n",
    "    \"\"\"\n",
    "    保険引受可否 判定関数.\n",
    "\n",
    "    Parameters\n",
    "    ----------\n",
    "    age : int\n",
    "        年齢.\n",
    "    income : int\n",
    "        年収.\n",
    "    health_status : str\n",
    "        健康状態.\n",
    "\n",
    "    Returns\n",
    "    -------\n",
    "    str\n",
    "        保険引受可否.\n",
    "    \"\"\"\n",
    "    # 回答を記述しなさい\n",
    "    pass"
   ]
  },
  {
   "cell_type": "code",
   "execution_count": null,
   "metadata": {},
   "outputs": [],
   "source": [
    "# 期待する結果: 保険に加入できる\n",
    "print(\"case1:\"\n",
    "    , can_parchase_insurance(25, 45000, \"良好\"))\n",
    "\n",
    "# 期待する結果: 保険に加入できる\n",
    "print(\"case2:\"\n",
    "    , can_parchase_insurance(25, 45000, \"普通\"))\n",
    "\n",
    "# 期待する結果: 保険に加入できない\n",
    "print(\"case3:\"\n",
    "    , can_parchase_insurance(25, 25000, \"普通\"))\n",
    "\n",
    "# 期待する結果: 保険に加入できない\n",
    "print(\"case4:\"\n",
    "    , can_parchase_insurance(25, 45000, \"悪い\"))\n",
    "\n",
    "# 期待する結果: 保険に加入できない\n",
    "print(\"case5:\"\n",
    "    , can_parchase_insurance(17, 30000, \"良好\"))"
   ]
  },
  {
   "cell_type": "markdown",
   "metadata": {},
   "source": [
    "## 1-4. 三項演算子\n",
    "三項演算子を利用して商品の補充が必要かどうか出力する条件分岐を記述しなさい。  \n",
    "なお、条件は以下を満たすこと。\n",
    "\n",
    "- 在庫が10個以下であれば、\"補充が必要\"と出力する\n",
    "- 在庫が11個以上であれば、\"補充は不要\"と出力する"
   ]
  },
  {
   "cell_type": "code",
   "execution_count": null,
   "metadata": {},
   "outputs": [],
   "source": [
    "def needs_restock(stock: int) -> str:\n",
    "    \"\"\"\n",
    "    商品の補充判定関数.\n",
    "\n",
    "    Parameters\n",
    "    ----------\n",
    "    stock : int\n",
    "        在庫数.\n",
    "\n",
    "    Returns\n",
    "    -------\n",
    "    str\n",
    "        補充が必要かどうか.\n",
    "    \"\"\"\n",
    "    # 回答を記述しなさい\n",
    "    pass"
   ]
  },
  {
   "cell_type": "code",
   "execution_count": null,
   "metadata": {},
   "outputs": [],
   "source": [
    "# 期待する結果: \"補充が必要\"\n",
    "print(\"case1:\"\n",
    "      , needs_restock(9))\n",
    "\n",
    "# 期待する結果: \"補充が必要\"\n",
    "print(\"case2:\"\n",
    "      , needs_restock(10))\n",
    "\n",
    "# 期待する結果: \"補充は不要\"\n",
    "print(\"case3:\"\n",
    "      , needs_restock(11))\n",
    "\n",
    "# 期待する結果: \"補充は不要\"\n",
    "print(\"case4:\"\n",
    "      , needs_restock(12))"
   ]
  }
 ],
 "metadata": {
  "kernelspec": {
   "display_name": "Python 3",
   "language": "python",
   "name": "python3"
  },
  "language_info": {
   "codemirror_mode": {
    "name": "ipython",
    "version": 3
   },
   "file_extension": ".py",
   "mimetype": "text/x-python",
   "name": "python",
   "nbconvert_exporter": "python",
   "pygments_lexer": "ipython3",
   "version": "3.11.3"
  }
 },
 "nbformat": 4,
 "nbformat_minor": 2
}
