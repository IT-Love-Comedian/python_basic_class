{
 "cells": [
  {
   "cell_type": "markdown",
   "metadata": {},
   "source": [
    "### 1. リストの作成\n",
    "数値型の要素を5つ持ったリストを作成しなさい。"
   ]
  },
  {
   "cell_type": "code",
   "execution_count": null,
   "metadata": {},
   "outputs": [],
   "source": []
  },
  {
   "cell_type": "markdown",
   "metadata": {},
   "source": [
    "### 2. リストから値の取り出し\n",
    "以下の条件を満たすコードを記述しなさい。\n",
    "1. 先頭の要素を取り出しなさい\n",
    "2. 末尾の要素を取り出しなさい\n",
    "3. 2番目から4番目の要素を取り出しなさい"
   ]
  },
  {
   "cell_type": "code",
   "execution_count": null,
   "metadata": {},
   "outputs": [],
   "source": [
    "array = [1, 2, 3, 4, 5]\n",
    "\n",
    "# 1. 先頭の要素を取り出しなさい\n",
    "print(array)"
   ]
  },
  {
   "cell_type": "code",
   "execution_count": null,
   "metadata": {},
   "outputs": [],
   "source": [
    "array = [1, 2, 3, 4, 5]\n",
    "\n",
    "# 2. 末尾の要素を取り出しなさい\n",
    "print(array)"
   ]
  },
  {
   "cell_type": "code",
   "execution_count": null,
   "metadata": {},
   "outputs": [],
   "source": [
    "array = [1, 2, 3, 4, 5]\n",
    "\n",
    "# 3. 2番目から4番目の要素を取り出しなさい\n",
    "print(array)"
   ]
  },
  {
   "cell_type": "markdown",
   "metadata": {},
   "source": [
    "### 3. リストの四則演算\n",
    "リストに対して**四則演算のいずれか**を行い、要件を満たすコードを記述しなさい。\n",
    "\n",
    "1. 変数に格納された2つのリストを連結しなさい\n",
    "2. 数値 0 の要素を 10 個追加しなさい"
   ]
  },
  {
   "cell_type": "code",
   "execution_count": 40,
   "metadata": {},
   "outputs": [],
   "source": [
    "array_1 = ['a', 'b', 'c', 'd', 'e']\n",
    "array_2 = ['f', 'g', 'h', 'i', 'j']\n",
    "\n",
    "# 1. 変数に格納された2つのリストを連結しなさい\n",
    "print()"
   ]
  },
  {
   "cell_type": "code",
   "execution_count": 41,
   "metadata": {},
   "outputs": [],
   "source": [
    "array = [0]\n",
    "\n",
    "# 2. 数値 0 の要素を 10 個追加しなさい\n",
    "print()"
   ]
  },
  {
   "cell_type": "markdown",
   "metadata": {},
   "source": [
    "### 4. 要素の追加\n",
    "クラスメソッドを使用し、変数 array の末尾に「n」を追加しなさい"
   ]
  },
  {
   "cell_type": "code",
   "execution_count": null,
   "metadata": {},
   "outputs": [],
   "source": [
    "array = ['p', 'y', 't', 'h', 'o']\n",
    "\n",
    "# クラスメソッドを使用し、末尾の要素に「n」を追加しなさい\n",
    "array\n",
    "\n",
    "for s in array:\n",
    "    print(s, end='')"
   ]
  },
  {
   "cell_type": "markdown",
   "metadata": {},
   "source": [
    "### 5. 代入の特徴(Shallow Copy)\n",
    "変数 array に代入や追加を行うことなく、変数 array の末尾に「n」を追加しなさい。"
   ]
  },
  {
   "cell_type": "code",
   "execution_count": null,
   "metadata": {},
   "outputs": [],
   "source": [
    "array = ['p', 'y', 't', 'h', 'o']\n",
    "\n",
    "for s in array:\n",
    "    print(s, end='')"
   ]
  },
  {
   "cell_type": "markdown",
   "metadata": {},
   "source": [
    "### 6. 代入の特徴(Deep Copy)\n",
    "以下のコードに対し、右辺のみを修正することで出力結果が「python」になるようにしなさい。\n",
    "\n",
    "```\n",
    "copy_array = array\n",
    "```"
   ]
  },
  {
   "cell_type": "code",
   "execution_count": null,
   "metadata": {},
   "outputs": [],
   "source": [
    "array = ['p', 'y', 't', 'h', 'o', 'n']\n",
    "\n",
    "# 右辺のみを修正して、出力結果が「python」になるようにしなさい\n",
    "copy_array = array\n",
    "\n",
    "copy_array[-1] = 'm'\n",
    "\n",
    "for s in array:\n",
    "    print(s, end='')"
   ]
  },
  {
   "cell_type": "markdown",
   "metadata": {},
   "source": [
    "### 7. 要素数の出力\n",
    "組み込み関数を使用し、変数 array の要素数を出力しなさい。"
   ]
  },
  {
   "cell_type": "code",
   "execution_count": null,
   "metadata": {},
   "outputs": [],
   "source": [
    "array = ['p', 'y', 't', 'h', 'o', 'n']\n",
    "\n",
    "print(array)"
   ]
  },
  {
   "cell_type": "markdown",
   "metadata": {},
   "source": [
    "### 8. リスト型を要素に持つリスト\n",
    "変数 array から「o」の文字を抽出しなさい。"
   ]
  },
  {
   "cell_type": "code",
   "execution_count": null,
   "metadata": {},
   "outputs": [],
   "source": [
    "array = [['p', 'y', 't', 'h', 'o', 'n'], ['j', 'a', 'v', 'a'], ['r', 'u', 'b', 'y']]\n",
    "\n",
    "print(array)"
   ]
  },
  {
   "cell_type": "markdown",
   "metadata": {},
   "source": [
    "### 9. 組み込み関数を使用した演算\n",
    "組み込み関数を利用した list 型の操作についてコードを記述しなさい。\n",
    "\n",
    "1. 組み込み関数を使用し、先頭の要素を取り出しなさい\n",
    "2. 組み込み関数を使用し、末尾の要素を取り出しなさい\n",
    "3. 組み込み関数を使用し、変数 array に格納されている数値の合計を出力しなさい"
   ]
  },
  {
   "cell_type": "code",
   "execution_count": 29,
   "metadata": {},
   "outputs": [],
   "source": [
    "array = ['p', 'y', 't', 'h', 'o', 'n']\n",
    "\n",
    "# 1. 組み込み関数を使用し、先頭の要素を取り出しなさい\n",
    "print(array)"
   ]
  },
  {
   "cell_type": "code",
   "execution_count": null,
   "metadata": {},
   "outputs": [],
   "source": [
    "array = ['p', 'y', 't', 'h', 'o', 'n']\n",
    "\n",
    "# 2. 組み込み関数を使用し、末尾の要素を取り出しなさい\n",
    "print(array)"
   ]
  },
  {
   "cell_type": "code",
   "execution_count": 31,
   "metadata": {},
   "outputs": [
    {
     "name": "stdout",
     "output_type": "stream",
     "text": [
      "[1, 2, 3, 4, 5, 6, 7, 8, 9, 10]\n"
     ]
    }
   ],
   "source": [
    "array = [1, 2, 3, 4, 5, 6, 7, 8, 9, 10]\n",
    "\n",
    "# 3. 組み込み関数を使用し、変数 array に格納されている数値の合計を出力しなさい\n",
    "print(array)"
   ]
  },
  {
   "cell_type": "markdown",
   "metadata": {},
   "source": [
    "### 10. Shallow Copy の理解\n"
   ]
  },
  {
   "cell_type": "code",
   "execution_count": 53,
   "metadata": {},
   "outputs": [
    {
     "name": "stdout",
     "output_type": "stream",
     "text": [
      "【初期状態】\n",
      " [[0, 1], [2, 3], [0, 1], [2, 3], [0, 1], [2, 3]]\n",
      "\n",
      "【期待する答え】\n",
      " [[99, 1], [2, 3], [0, 1], [2, 3], [0, 1], [2, 3]]\n",
      "\n",
      "【得られた答え】\n",
      " [[99, 1], [2, 3], [99, 1], [2, 3], [99, 1], [2, 3]]\n"
     ]
    }
   ],
   "source": [
    "# [0, 1], [2, 3] の要素を3つ持ったリストを作成する\n",
    "shallow_sample = [[0, 1], [2, 3]] * 3\n",
    "print('【初期状態】\\n', shallow_sample, end='\\n\\n')\n",
    "\n",
    "# expected_list の状態のリストを作成したい。\n",
    "expected_list = [[99, 1], [2, 3], [0, 1], [2, 3], [0, 1], [2, 3]]\n",
    "print('【期待する答え】\\n', expected_list, end='\\n\\n')\n",
    "\n",
    "# 0番目のリストの0番目の要素だけを99に変更する\n",
    "shallow_sample[0][0] = 99\n",
    "print('【得られた答え】\\n', shallow_sample)"
   ]
  },
  {
   "cell_type": "markdown",
   "metadata": {},
   "source": [
    "#### 回答"
   ]
  },
  {
   "cell_type": "markdown",
   "metadata": {},
   "source": []
  }
 ],
 "metadata": {
  "kernelspec": {
   "display_name": "Python 3",
   "language": "python",
   "name": "python3"
  },
  "language_info": {
   "codemirror_mode": {
    "name": "ipython",
    "version": 3
   },
   "file_extension": ".py",
   "mimetype": "text/x-python",
   "name": "python",
   "nbconvert_exporter": "python",
   "pygments_lexer": "ipython3",
   "version": "3.11.3"
  }
 },
 "nbformat": 4,
 "nbformat_minor": 2
}
