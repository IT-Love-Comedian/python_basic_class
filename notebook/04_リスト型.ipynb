{
 "cells": [
  {
   "cell_type": "markdown",
   "metadata": {},
   "source": [
    "## 1. リストの作成\n",
    "数値型の要素を5つ持ったリストを作成しなさい。"
   ]
  },
  {
   "cell_type": "code",
   "execution_count": null,
   "metadata": {},
   "outputs": [],
   "source": []
  },
  {
   "cell_type": "markdown",
   "metadata": {},
   "source": [
    "## 2. リストから値の取り出し\n",
    "以下の条件を満たすコードを記述しなさい。\n",
    "1. 先頭の要素を取り出しなさい\n",
    "2. 末尾の要素を取り出しなさい\n",
    "3. 2番目から4番目の要素を取り出しなさい"
   ]
  },
  {
   "cell_type": "code",
   "execution_count": null,
   "metadata": {},
   "outputs": [],
   "source": [
    "array = [1, 2, 3, 4, 5]\n",
    "\n",
    "# 1. 先頭の要素を取り出しなさい\n",
    "print(array)"
   ]
  },
  {
   "cell_type": "code",
   "execution_count": null,
   "metadata": {},
   "outputs": [],
   "source": [
    "array = [1, 2, 3, 4, 5]\n",
    "\n",
    "# 2. 末尾の要素を取り出しなさい\n",
    "print(array)"
   ]
  },
  {
   "cell_type": "code",
   "execution_count": null,
   "metadata": {},
   "outputs": [],
   "source": [
    "array = [1, 2, 3, 4, 5]\n",
    "\n",
    "# 3. 2番目から4番目の要素を取り出しなさい\n",
    "print(array)"
   ]
  },
  {
   "cell_type": "markdown",
   "metadata": {},
   "source": [
    "## 3. リストの四則演算\n",
    "リストに対して**四則演算のいずれか**を行い、要件を満たすコードを記述しなさい。\n",
    "\n",
    "1. 変数に格納された2つのリストを連結しなさい\n",
    "2. 数値 0 の要素を 10 個追加しなさい"
   ]
  },
  {
   "cell_type": "code",
   "execution_count": null,
   "metadata": {},
   "outputs": [],
   "source": [
    "array_1 = ['a', 'b', 'c', 'd', 'e']\n",
    "array_2 = ['f', 'g', 'h', 'i', 'j']\n",
    "\n",
    "# 1. 変数に格納された2つのリストを連結しなさい\n",
    "print()"
   ]
  },
  {
   "cell_type": "code",
   "execution_count": null,
   "metadata": {},
   "outputs": [],
   "source": [
    "array = [0]\n",
    "\n",
    "# 2. 数値 0 の要素を 10 個追加しなさい\n",
    "print()"
   ]
  },
  {
   "cell_type": "markdown",
   "metadata": {},
   "source": [
    "## 4. リストに要素を追加する"
   ]
  },
  {
   "cell_type": "markdown",
   "metadata": {},
   "source": [
    "### 4-1. リストの末尾に要素を追加する\n",
    "list型のクラスメソッドを利用し、変数 array の末尾に「n」を追加しなさい。\n",
    "\n",
    "<details>\n",
    "<summary>ヒント</summary>\n",
    "list.append() を利用する。\n",
    "</details>"
   ]
  },
  {
   "cell_type": "code",
   "execution_count": null,
   "metadata": {},
   "outputs": [],
   "source": [
    "array = ['p', 'y', 't', 'h', 'o']\n",
    "\n",
    "# クラスメソッドを使用し、末尾の要素に「n」を追加しなさい\n",
    "array\n",
    "\n",
    "for s in array:\n",
    "    print(s, end='')"
   ]
  },
  {
   "cell_type": "markdown",
   "metadata": {},
   "source": [
    "### 4-2. リストの間に要素を追加する\n",
    "list型のクラスメソッドを利用し、変数 array に要素を追加して「python」の文字列を完成させなさい。\n",
    "\n",
    "<details>\n",
    "<summary>ヒント</summary>\n",
    "lsit.insert() を利用する。\n",
    "</details>"
   ]
  },
  {
   "cell_type": "code",
   "execution_count": null,
   "metadata": {},
   "outputs": [],
   "source": [
    "array = ['p', 'y', 'h', 'o', 'n']\n",
    "\n",
    "# クラスメソッドを使用し、「t」を追加しなさい\n",
    "array\n",
    "\n",
    "for s in array:\n",
    "    print(s, end='')"
   ]
  },
  {
   "cell_type": "markdown",
   "metadata": {},
   "source": [
    "### 4-3. リストを追加する\n",
    "list型のクラスメソッドを利用し、変数 array にリストを追加しなさい。\n",
    "\n",
    "<details>\n",
    "<summary>ヒント</summary>\n",
    "lsit.extend() を利用する。\n",
    "</details>"
   ]
  },
  {
   "cell_type": "code",
   "execution_count": null,
   "metadata": {},
   "outputs": [],
   "source": [
    "array = ['p', 'y']\n",
    "extend_array = ['t', 'h', 'o', 'n']\n",
    "\n",
    "# クラスメソッドを使用し、extend_array の要素を追加しなさい\n",
    "array\n",
    "\n",
    "for s in array:\n",
    "    print(s, end='')"
   ]
  },
  {
   "cell_type": "markdown",
   "metadata": {},
   "source": [
    "## 5. リストの要素を削除する"
   ]
  },
  {
   "cell_type": "markdown",
   "metadata": {},
   "source": [
    "### 5-1. del を使用した要素の削除\n",
    "変数 array の要素を加工し、「python」の出力が得られるようにコードを記述しなさい。  \n",
    "なお、del を使用すること。"
   ]
  },
  {
   "cell_type": "code",
   "execution_count": null,
   "metadata": {},
   "outputs": [],
   "source": [
    "array = ['p', 'y', 't', 'o', 'h', 'o', 'n']\n",
    "\n",
    "# del を使用し、「python」の文字列を完成させなさい\n",
    "\n",
    "\n",
    "for s in array:\n",
    "    print(s, end='')"
   ]
  },
  {
   "cell_type": "markdown",
   "metadata": {},
   "source": [
    "### 5-2. list.remove() を使用した要素の削除\n",
    "変数 array の要素を加工し、「python」の出力が得られるようにコードを記述しなさい。  \n",
    "なお、list.remove() 関数を使用すること"
   ]
  },
  {
   "cell_type": "code",
   "execution_count": null,
   "metadata": {},
   "outputs": [],
   "source": [
    "array = ['p', 'y', 't', 'x', 'h', 'o', 'n']\n",
    "\n",
    "# list.remove() を使用し、「python」の文字列を完成させなさい\n",
    "\n",
    "\n",
    "for s in array:\n",
    "    print(s, end='')"
   ]
  },
  {
   "cell_type": "markdown",
   "metadata": {},
   "source": [
    "### 5-3. list.pop() を使用した要素の抽出\n",
    "変数 array の要素を加工し、「python」の出力が得られるようにコードを記述しなさい。  \n",
    "なお、list.pop() 関数を使用すること。"
   ]
  },
  {
   "cell_type": "code",
   "execution_count": null,
   "metadata": {},
   "outputs": [],
   "source": [
    "array = ['p', 'y', 't', 'x', 'h', 'o', 'n']\n",
    "\n",
    "# list.pop() を使用し、「python」の文字列を完成させなさい\n",
    "\n",
    "\n",
    "for s in array:\n",
    "    print(s, end='')"
   ]
  },
  {
   "cell_type": "markdown",
   "metadata": {},
   "source": [
    "## 6. リストの要素をクリアする\n",
    "list型のクラスメソッドを利用して変数 array の要素をクリアしなさい。  \n",
    "なお、クリア後の array は要素が存在しない空のリストとなっていること。  \n",
    "\n",
    "<details>\n",
    "<summary>ヒント</summary>\n",
    "\n",
    "list.clear() 関数を利用すること。  \n",
    "また、list.clear() の挙動について理解し、戻り値に注意すること。  \n",
    "\n",
    "</details>"
   ]
  },
  {
   "cell_type": "code",
   "execution_count": null,
   "metadata": {},
   "outputs": [],
   "source": [
    "array = ['p', 'y', 't', 'h', 'o', 'n']"
   ]
  },
  {
   "cell_type": "markdown",
   "metadata": {},
   "source": [
    "## 7. 代入の特徴(Shallow Copy)"
   ]
  },
  {
   "cell_type": "markdown",
   "metadata": {},
   "source": [
    "### 7-1. Shallow Copy の基礎\n",
    "変数 array に代入や追加を行うことなく、変数 array の末尾に「n」を追加しなさい。\n",
    "\n",
    "<details>\n",
    "<summary>ヒント</summary>\n",
    "\n",
    "Shallow Copy を行うと、代入**先**の変数は代入**元**と同じメモリアドレスを参照します。  \n",
    "Python で単純な代入を行う場合、必ず Shallow Copy が行われます。  \n",
    "つまり、変数 array を直接操作しなくても代入した変数は同じメモリアドレスを参照するので...？  \n",
    "\n",
    "</details>"
   ]
  },
  {
   "cell_type": "code",
   "execution_count": null,
   "metadata": {},
   "outputs": [],
   "source": [
    "array = ['p', 'y', 't', 'h', 'o']\n",
    "\n",
    "for s in array:\n",
    "    print(s, end='')"
   ]
  },
  {
   "cell_type": "markdown",
   "metadata": {},
   "source": [
    "### 7-2. Shallow Copy の更なる理解\n",
    "1. `[[10, 20], [30, 40]] * 3` の結果を変数 initial_list に格納した。\n",
    "1. 変数 initial_list の中身を書き換えたいが、元の状態は保持したいので変数 shallow_sample に中身をコピーした。  \n",
    "   この時、initial_list と shallow_sample のメモリアドレスを id() 関数で比較し、異なるオブジェクトであることを確認した。  \n",
    "1. 次に、shallow_sample[0][0] の要素を 10 から 99 に書き換えた。  \n",
    "   この時、shallow_sample の中身として期待した実行結果は以下の通りである。  \n",
    "   ` [[99, 20], [30, 40], [10, 20], [30, 40], [10, 20], [30, 40]]`  \n",
    "1. 中身を確認してみた結果、shallow_sample の中身は以下となっていた。  \n",
    "   `[[99, 20], [30, 40], [99, 20], [30, 40], [99, 20], [30, 40]]`  \n",
    "1. 元の状態に戻そうと initial_list の中身を確認したところ、何故か initial_list の中身も書き換えられてしまっていた。  \n",
    "   `[[99, 20], [30, 40], [99, 20], [30, 40], [99, 20], [30, 40]]`"
   ]
  },
  {
   "cell_type": "code",
   "execution_count": null,
   "metadata": {},
   "outputs": [],
   "source": [
    "# 1. [10, 20], [30, 40] の要素を3つずつ持ったリストを作成する\n",
    "initial_list = [[10, 20], [30, 40]] * 3\n",
    "print('【初期状態】\\n', initial_list, end='\\n\\n')\n",
    "\n",
    "# expected_list の状態のリストを作成したい。\n",
    "expected_list = [[99, 20], [30, 40], [10, 20], [30, 40], [10, 20], [30, 40]]\n",
    "print('【期待する答え】\\n', expected_list, end='\\n\\n')\n",
    "\n",
    "# initial_list をコピーし、別のメモリアドレスにリストを格納する\n",
    "shallow_sample = initial_list.copy()\n",
    "if id(shallow_sample) == id(initial_list):\n",
    "    print('Shallow Copy である', end='\\n\\n')\n",
    "else:\n",
    "    print('Shallow Copy ではない', end='\\n\\n')\n",
    "\n",
    "# 0番目のリストの0番目の要素だけを99に変更する\n",
    "shallow_sample[0][0] = 99\n",
    "print('【shallow_sample の中身】\\n', shallow_sample, end='\\n\\n')\n",
    "\n",
    "# 異なるメモリアドレスに格納されていたはずの initial_list も変更されてしまっている\n",
    "print('【initial_list の中身】\\n', initial_list)"
   ]
  },
  {
   "cell_type": "markdown",
   "metadata": {},
   "source": [
    "#### 7-2-1. shallow_sample の中身が期待する結果と異なった理由を回答しなさい"
   ]
  },
  {
   "cell_type": "code",
   "execution_count": null,
   "metadata": {},
   "outputs": [],
   "source": []
  },
  {
   "cell_type": "markdown",
   "metadata": {},
   "source": [
    "#### 7-2-2. initial_sample の中身が書き換わってしまった理由を回答しなさい"
   ]
  },
  {
   "cell_type": "code",
   "execution_count": null,
   "metadata": {},
   "outputs": [],
   "source": []
  },
  {
   "cell_type": "markdown",
   "metadata": {},
   "source": [
    "## 8. 代入の特徴(Deep Copy)\n"
   ]
  },
  {
   "cell_type": "code",
   "execution_count": null,
   "metadata": {},
   "outputs": [],
   "source": [
    "import copy\n",
    "array = [[10, 20], [30, 40]] * 3\n",
    "\n",
    "# 右辺のみを修正して、copy_array に実行した処理が array に影響しないようにしなさい\n",
    "copy_array = array\n",
    "\n",
    "copy_array[0][0] = 99\n",
    "\n",
    "print('【array】\\n', array, end='\\n\\n')\n",
    "print('【copy_array】\\n', copy_array)"
   ]
  },
  {
   "cell_type": "markdown",
   "metadata": {},
   "source": [
    "## 9. 要素数の出力\n",
    "組み込み関数を使用し、変数 array の要素数を出力しなさい。"
   ]
  },
  {
   "cell_type": "code",
   "execution_count": null,
   "metadata": {},
   "outputs": [],
   "source": [
    "array = ['p', 'y', 't', 'h', 'o', 'n']\n",
    "\n",
    "print(array)"
   ]
  },
  {
   "cell_type": "markdown",
   "metadata": {},
   "source": [
    "## 10. リスト型を要素に持つリスト\n",
    "変数 array から「o」の文字を抽出しなさい。"
   ]
  },
  {
   "cell_type": "code",
   "execution_count": null,
   "metadata": {},
   "outputs": [],
   "source": [
    "array = [['p', 'y', 't', 'h', 'o', 'n'], ['j', 'a', 'v', 'a'], ['r', 'u', 'b', 'y']]\n",
    "\n",
    "print(array)"
   ]
  },
  {
   "cell_type": "markdown",
   "metadata": {},
   "source": [
    "## 11. 組み込み関数を使用した演算\n",
    "組み込み関数を利用した list 型の操作についてコードを記述しなさい。\n",
    "\n",
    "1. 組み込み関数を使用して最小値を取得しなさい\n",
    "2. 組み込み関数を使用して最大値を取得しなさい\n",
    "3. 組み込み関数を使用し、変数 array に格納されている数値の合計を出力しなさい"
   ]
  },
  {
   "cell_type": "code",
   "execution_count": null,
   "metadata": {},
   "outputs": [],
   "source": [
    "array = [1, 2, 3, 4, 5]\n",
    "\n",
    "# 1. 組み込み関数を使用して最小値を取得しなさい\n",
    "print(array)"
   ]
  },
  {
   "cell_type": "code",
   "execution_count": null,
   "metadata": {},
   "outputs": [],
   "source": [
    "array = [1, 2, 3, 4, 5]\n",
    "\n",
    "# 2. 組み込み関数を使用して最大値を取得しなさい\n",
    "print(array)"
   ]
  },
  {
   "cell_type": "code",
   "execution_count": null,
   "metadata": {},
   "outputs": [],
   "source": [
    "array = [1, 2, 3, 4, 5, 6, 7, 8, 9, 10]\n",
    "\n",
    "# 3. 組み込み関数を使用し、変数 array に格納されている数値の合計を出力しなさい\n",
    "print(array)"
   ]
  },
  {
   "cell_type": "markdown",
   "metadata": {},
   "source": [
    "## 12. 比較演算子"
   ]
  },
  {
   "cell_type": "markdown",
   "metadata": {},
   "source": [
    "### 12-1. 小なり(<)の比較結果\n",
    "以下のコードの実行結果を回答しなさい。  \n",
    "`[1, 2, 3, 4] < [1, 2, 2, 100]`\n",
    "\n",
    "また、その理由も答えなさい。"
   ]
  },
  {
   "cell_type": "code",
   "execution_count": null,
   "metadata": {},
   "outputs": [],
   "source": []
  },
  {
   "cell_type": "markdown",
   "metadata": {},
   "source": [
    "### 12-2. 等価比較(==)の比較結果\n",
    "2つのリストを等価比較(==)して、True が出力されるコードを記述しなさい。  \n",
    "ただし、2パターン以上作成すること。"
   ]
  },
  {
   "cell_type": "code",
   "execution_count": null,
   "metadata": {},
   "outputs": [],
   "source": [
    "array = [0, 1, 2]\n",
    "\n",
    "# 比較結果が True になるように、変数を修正しなさい\n",
    "compare = []\n",
    "\n",
    "print(array == compare)"
   ]
  },
  {
   "cell_type": "code",
   "execution_count": null,
   "metadata": {},
   "outputs": [],
   "source": [
    "array = [0, 1, 2]\n",
    "\n",
    "# 比較結果が True になるように、変数を修正しなさい\n",
    "compare = []\n",
    "\n",
    "print(array == compare)"
   ]
  },
  {
   "cell_type": "markdown",
   "metadata": {},
   "source": [
    "## 13. is 演算子\n",
    "変数 array と、変数 compare の比較結果が True となるようにコードを記述しなさい。  \n",
    "ただし、編集するのは `compare = None` の右辺のみとします。"
   ]
  },
  {
   "cell_type": "code",
   "execution_count": null,
   "metadata": {},
   "outputs": [],
   "source": [
    "array = [1, 2, 3]\n",
    "\n",
    "# 比較結果が True になるように、変数を修正しなさい\n",
    "compare = None\n",
    "\n",
    "print(array is compare)"
   ]
  },
  {
   "cell_type": "markdown",
   "metadata": {},
   "source": [
    "## 14. in 演算子\n",
    "in 演算子を使用したコードを記述しなさい。  \n",
    "なお、結果は True となること。"
   ]
  },
  {
   "cell_type": "code",
   "execution_count": null,
   "metadata": {},
   "outputs": [],
   "source": [
    "array = [1, 2, 3]"
   ]
  },
  {
   "cell_type": "markdown",
   "metadata": {},
   "source": [
    "## 15. list型のクラスメソッド"
   ]
  },
  {
   "cell_type": "markdown",
   "metadata": {},
   "source": [
    "### 15-1. list.index()\n",
    "list.index() 関数を利用すると、引数として渡した値が初めて出現するインデックスを返す。  \n",
    "存在しない値を引数として渡すと、例外が発生する。  \n",
    "この時、例外を発生させずに -1 を返すようなコードを記述しなさい。"
   ]
  },
  {
   "cell_type": "code",
   "execution_count": null,
   "metadata": {},
   "outputs": [],
   "source": [
    "array = [1, 2, 3, 4, 5, 6, 7, 8, 9, 10]\n",
    "\n",
    "array.index(11)"
   ]
  },
  {
   "cell_type": "markdown",
   "metadata": {},
   "source": [
    "### 15-2. list.count()\n",
    "list.count() 関数を利用して、1 ~ 6 までの数値がそれぞれ何回出現するのか出力するコードを記述しなさい。"
   ]
  },
  {
   "cell_type": "code",
   "execution_count": null,
   "metadata": {},
   "outputs": [],
   "source": [
    "array = [1, 2, 3] * 3 + [4, 5, 6]"
   ]
  },
  {
   "cell_type": "markdown",
   "metadata": {},
   "source": [
    "### 15-3. list.sort()\n",
    "list.sort() 関数を利用して、リストの中身を降順で並び替えしなさい。"
   ]
  },
  {
   "cell_type": "code",
   "execution_count": null,
   "metadata": {},
   "outputs": [],
   "source": [
    "array = [1, 3, 2, 4, 6, 5, 7, 9, 8, 10]"
   ]
  }
 ],
 "metadata": {
  "kernelspec": {
   "display_name": "Python 3",
   "language": "python",
   "name": "python3"
  },
  "language_info": {
   "codemirror_mode": {
    "name": "ipython",
    "version": 3
   },
   "file_extension": ".py",
   "mimetype": "text/x-python",
   "name": "python",
   "nbconvert_exporter": "python",
   "pygments_lexer": "ipython3",
   "version": "3.11.3"
  }
 },
 "nbformat": 4,
 "nbformat_minor": 2
}
