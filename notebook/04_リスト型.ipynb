{
 "cells": [
  {
   "cell_type": "markdown",
   "metadata": {},
   "source": [
    "### 1. リストの作成\n",
    "数値型の要素を5つ持ったリストを作成しなさい。"
   ]
  },
  {
   "cell_type": "code",
   "execution_count": null,
   "metadata": {},
   "outputs": [],
   "source": []
  },
  {
   "cell_type": "markdown",
   "metadata": {},
   "source": [
    "### 2. リストから値の取り出し\n",
    "以下の条件を満たすコードを記述しなさい。\n",
    "1. 先頭の要素を取り出しなさい\n",
    "2. 末尾の要素を取り出しなさい\n",
    "3. 2番目から4番目の要素を取り出しなさい"
   ]
  },
  {
   "cell_type": "code",
   "execution_count": null,
   "metadata": {},
   "outputs": [],
   "source": [
    "array = [1, 2, 3, 4, 5]\n",
    "\n",
    "# 1. 先頭の要素を取り出しなさい\n",
    "print(array)"
   ]
  },
  {
   "cell_type": "code",
   "execution_count": null,
   "metadata": {},
   "outputs": [],
   "source": [
    "array = [1, 2, 3, 4, 5]\n",
    "\n",
    "# 2. 末尾の要素を取り出しなさい\n",
    "print(array)"
   ]
  },
  {
   "cell_type": "code",
   "execution_count": null,
   "metadata": {},
   "outputs": [],
   "source": [
    "array = [1, 2, 3, 4, 5]\n",
    "\n",
    "# 3. 2番目から4番目の要素を取り出しなさい\n",
    "print(array)"
   ]
  },
  {
   "cell_type": "markdown",
   "metadata": {},
   "source": [
    "### 3. リストの連結\n",
    "変数に格納された2つのリストを連結しなさい。  \n",
    "ただし、連結は四則演算のいずれかを用いて行うこと。"
   ]
  },
  {
   "cell_type": "code",
   "execution_count": null,
   "metadata": {},
   "outputs": [],
   "source": [
    "array_1 = ['a', 'b', 'c', 'd', 'e']\n",
    "array_2 = ['f', 'g', 'h', 'i', 'j']\n",
    "\n"
   ]
  },
  {
   "cell_type": "markdown",
   "metadata": {},
   "source": [
    "### 4. 要素の追加\n",
    "クラスメソッドを使用し、変数 array の末尾に「n」を追加しなさい"
   ]
  },
  {
   "cell_type": "code",
   "execution_count": null,
   "metadata": {},
   "outputs": [],
   "source": [
    "array = ['p', 'y', 't', 'h', 'o']\n",
    "\n",
    "# クラスメソッドを使用し、末尾の要素に「n」を追加しなさい\n",
    "array\n",
    "\n",
    "for s in array:\n",
    "    print(s, end='')"
   ]
  },
  {
   "cell_type": "markdown",
   "metadata": {},
   "source": [
    "### 5. 代入の特徴(Shallow Copy)\n",
    "変数 array に代入や追加を行うことなく、変数 array の末尾に「n」を追加しなさい。"
   ]
  },
  {
   "cell_type": "code",
   "execution_count": null,
   "metadata": {},
   "outputs": [],
   "source": [
    "array = ['p', 'y', 't', 'h', 'o']\n",
    "\n",
    "for s in array:\n",
    "    print(s, end='')"
   ]
  },
  {
   "cell_type": "markdown",
   "metadata": {},
   "source": [
    "### 6. 代入の特徴(Deep Copy)\n",
    "以下のコードに対し、右辺のみを修正することで出力結果が「python」になるようにしなさい。\n",
    "\n",
    "```\n",
    "copy_array = array\n",
    "```"
   ]
  },
  {
   "cell_type": "code",
   "execution_count": null,
   "metadata": {},
   "outputs": [],
   "source": [
    "array = ['p', 'y', 't', 'h', 'o', 'n']\n",
    "\n",
    "# 右辺のみを修正して、出力結果が「python」になるようにしなさい\n",
    "copy_array = array\n",
    "\n",
    "copy_array[-1] = 'm'\n",
    "\n",
    "for s in array:\n",
    "    print(s, end='')"
   ]
  },
  {
   "cell_type": "markdown",
   "metadata": {},
   "source": [
    "### 7. 要素数の出力\n",
    "組み込み関数を使用し、変数 array の要素数を出力しなさい。"
   ]
  },
  {
   "cell_type": "code",
   "execution_count": null,
   "metadata": {},
   "outputs": [],
   "source": [
    "array = ['p', 'y', 't', 'h', 'o', 'n']\n",
    "\n",
    "print(array)"
   ]
  },
  {
   "cell_type": "code",
   "execution_count": null,
   "metadata": {},
   "outputs": [],
   "source": []
  }
 ],
 "metadata": {
  "kernelspec": {
   "display_name": "Python 3",
   "language": "python",
   "name": "python3"
  },
  "language_info": {
   "codemirror_mode": {
    "name": "ipython",
    "version": 3
   },
   "file_extension": ".py",
   "mimetype": "text/x-python",
   "name": "python",
   "nbconvert_exporter": "python",
   "pygments_lexer": "ipython3",
   "version": "3.11.3"
  }
 },
 "nbformat": 4,
 "nbformat_minor": 2
}
